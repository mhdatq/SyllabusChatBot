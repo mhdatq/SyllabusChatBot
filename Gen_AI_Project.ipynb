{
  "nbformat": 4,
  "nbformat_minor": 0,
  "metadata": {
    "colab": {
      "provenance": []
    },
    "kernelspec": {
      "name": "python3",
      "display_name": "Python 3"
    },
    "language_info": {
      "name": "python"
    },
    "widgets": {
      "application/vnd.jupyter.widget-state+json": {
        "4dc75a43307f4720b30d6a3c1560dfaa": {
          "model_module": "@jupyter-widgets/controls",
          "model_name": "HBoxModel",
          "model_module_version": "1.5.0",
          "state": {
            "_dom_classes": [],
            "_model_module": "@jupyter-widgets/controls",
            "_model_module_version": "1.5.0",
            "_model_name": "HBoxModel",
            "_view_count": null,
            "_view_module": "@jupyter-widgets/controls",
            "_view_module_version": "1.5.0",
            "_view_name": "HBoxView",
            "box_style": "",
            "children": [
              "IPY_MODEL_c81045d0dce74e098024567073faae76",
              "IPY_MODEL_30c65725a2014ac9b00eccbec3d8a6c3",
              "IPY_MODEL_bbe359f1425642ccb6073dfd677a0037"
            ],
            "layout": "IPY_MODEL_f303fef506ae4cedb765b1ad35ada24f"
          }
        },
        "c81045d0dce74e098024567073faae76": {
          "model_module": "@jupyter-widgets/controls",
          "model_name": "HTMLModel",
          "model_module_version": "1.5.0",
          "state": {
            "_dom_classes": [],
            "_model_module": "@jupyter-widgets/controls",
            "_model_module_version": "1.5.0",
            "_model_name": "HTMLModel",
            "_view_count": null,
            "_view_module": "@jupyter-widgets/controls",
            "_view_module_version": "1.5.0",
            "_view_name": "HTMLView",
            "description": "",
            "description_tooltip": null,
            "layout": "IPY_MODEL_ec0df92050204a819a1405b19a0febf7",
            "placeholder": "​",
            "style": "IPY_MODEL_ee3fde4e952a438ab25421d024553215",
            "value": "Batches: 100%"
          }
        },
        "30c65725a2014ac9b00eccbec3d8a6c3": {
          "model_module": "@jupyter-widgets/controls",
          "model_name": "FloatProgressModel",
          "model_module_version": "1.5.0",
          "state": {
            "_dom_classes": [],
            "_model_module": "@jupyter-widgets/controls",
            "_model_module_version": "1.5.0",
            "_model_name": "FloatProgressModel",
            "_view_count": null,
            "_view_module": "@jupyter-widgets/controls",
            "_view_module_version": "1.5.0",
            "_view_name": "ProgressView",
            "bar_style": "success",
            "description": "",
            "description_tooltip": null,
            "layout": "IPY_MODEL_c59825a7f50c47509700ac28a59d4a09",
            "max": 1,
            "min": 0,
            "orientation": "horizontal",
            "style": "IPY_MODEL_e3a49a7324ec4e408accec1c549ed63b",
            "value": 1
          }
        },
        "bbe359f1425642ccb6073dfd677a0037": {
          "model_module": "@jupyter-widgets/controls",
          "model_name": "HTMLModel",
          "model_module_version": "1.5.0",
          "state": {
            "_dom_classes": [],
            "_model_module": "@jupyter-widgets/controls",
            "_model_module_version": "1.5.0",
            "_model_name": "HTMLModel",
            "_view_count": null,
            "_view_module": "@jupyter-widgets/controls",
            "_view_module_version": "1.5.0",
            "_view_name": "HTMLView",
            "description": "",
            "description_tooltip": null,
            "layout": "IPY_MODEL_b47f50ee2685476b9c99ce5144badc08",
            "placeholder": "​",
            "style": "IPY_MODEL_eed58a18e5a541c39efbf2a2cc227edb",
            "value": " 1/1 [00:02&lt;00:00,  2.11s/it]"
          }
        },
        "f303fef506ae4cedb765b1ad35ada24f": {
          "model_module": "@jupyter-widgets/base",
          "model_name": "LayoutModel",
          "model_module_version": "1.2.0",
          "state": {
            "_model_module": "@jupyter-widgets/base",
            "_model_module_version": "1.2.0",
            "_model_name": "LayoutModel",
            "_view_count": null,
            "_view_module": "@jupyter-widgets/base",
            "_view_module_version": "1.2.0",
            "_view_name": "LayoutView",
            "align_content": null,
            "align_items": null,
            "align_self": null,
            "border": null,
            "bottom": null,
            "display": null,
            "flex": null,
            "flex_flow": null,
            "grid_area": null,
            "grid_auto_columns": null,
            "grid_auto_flow": null,
            "grid_auto_rows": null,
            "grid_column": null,
            "grid_gap": null,
            "grid_row": null,
            "grid_template_areas": null,
            "grid_template_columns": null,
            "grid_template_rows": null,
            "height": null,
            "justify_content": null,
            "justify_items": null,
            "left": null,
            "margin": null,
            "max_height": null,
            "max_width": null,
            "min_height": null,
            "min_width": null,
            "object_fit": null,
            "object_position": null,
            "order": null,
            "overflow": null,
            "overflow_x": null,
            "overflow_y": null,
            "padding": null,
            "right": null,
            "top": null,
            "visibility": null,
            "width": null
          }
        },
        "ec0df92050204a819a1405b19a0febf7": {
          "model_module": "@jupyter-widgets/base",
          "model_name": "LayoutModel",
          "model_module_version": "1.2.0",
          "state": {
            "_model_module": "@jupyter-widgets/base",
            "_model_module_version": "1.2.0",
            "_model_name": "LayoutModel",
            "_view_count": null,
            "_view_module": "@jupyter-widgets/base",
            "_view_module_version": "1.2.0",
            "_view_name": "LayoutView",
            "align_content": null,
            "align_items": null,
            "align_self": null,
            "border": null,
            "bottom": null,
            "display": null,
            "flex": null,
            "flex_flow": null,
            "grid_area": null,
            "grid_auto_columns": null,
            "grid_auto_flow": null,
            "grid_auto_rows": null,
            "grid_column": null,
            "grid_gap": null,
            "grid_row": null,
            "grid_template_areas": null,
            "grid_template_columns": null,
            "grid_template_rows": null,
            "height": null,
            "justify_content": null,
            "justify_items": null,
            "left": null,
            "margin": null,
            "max_height": null,
            "max_width": null,
            "min_height": null,
            "min_width": null,
            "object_fit": null,
            "object_position": null,
            "order": null,
            "overflow": null,
            "overflow_x": null,
            "overflow_y": null,
            "padding": null,
            "right": null,
            "top": null,
            "visibility": null,
            "width": null
          }
        },
        "ee3fde4e952a438ab25421d024553215": {
          "model_module": "@jupyter-widgets/controls",
          "model_name": "DescriptionStyleModel",
          "model_module_version": "1.5.0",
          "state": {
            "_model_module": "@jupyter-widgets/controls",
            "_model_module_version": "1.5.0",
            "_model_name": "DescriptionStyleModel",
            "_view_count": null,
            "_view_module": "@jupyter-widgets/base",
            "_view_module_version": "1.2.0",
            "_view_name": "StyleView",
            "description_width": ""
          }
        },
        "c59825a7f50c47509700ac28a59d4a09": {
          "model_module": "@jupyter-widgets/base",
          "model_name": "LayoutModel",
          "model_module_version": "1.2.0",
          "state": {
            "_model_module": "@jupyter-widgets/base",
            "_model_module_version": "1.2.0",
            "_model_name": "LayoutModel",
            "_view_count": null,
            "_view_module": "@jupyter-widgets/base",
            "_view_module_version": "1.2.0",
            "_view_name": "LayoutView",
            "align_content": null,
            "align_items": null,
            "align_self": null,
            "border": null,
            "bottom": null,
            "display": null,
            "flex": null,
            "flex_flow": null,
            "grid_area": null,
            "grid_auto_columns": null,
            "grid_auto_flow": null,
            "grid_auto_rows": null,
            "grid_column": null,
            "grid_gap": null,
            "grid_row": null,
            "grid_template_areas": null,
            "grid_template_columns": null,
            "grid_template_rows": null,
            "height": null,
            "justify_content": null,
            "justify_items": null,
            "left": null,
            "margin": null,
            "max_height": null,
            "max_width": null,
            "min_height": null,
            "min_width": null,
            "object_fit": null,
            "object_position": null,
            "order": null,
            "overflow": null,
            "overflow_x": null,
            "overflow_y": null,
            "padding": null,
            "right": null,
            "top": null,
            "visibility": null,
            "width": null
          }
        },
        "e3a49a7324ec4e408accec1c549ed63b": {
          "model_module": "@jupyter-widgets/controls",
          "model_name": "ProgressStyleModel",
          "model_module_version": "1.5.0",
          "state": {
            "_model_module": "@jupyter-widgets/controls",
            "_model_module_version": "1.5.0",
            "_model_name": "ProgressStyleModel",
            "_view_count": null,
            "_view_module": "@jupyter-widgets/base",
            "_view_module_version": "1.2.0",
            "_view_name": "StyleView",
            "bar_color": null,
            "description_width": ""
          }
        },
        "b47f50ee2685476b9c99ce5144badc08": {
          "model_module": "@jupyter-widgets/base",
          "model_name": "LayoutModel",
          "model_module_version": "1.2.0",
          "state": {
            "_model_module": "@jupyter-widgets/base",
            "_model_module_version": "1.2.0",
            "_model_name": "LayoutModel",
            "_view_count": null,
            "_view_module": "@jupyter-widgets/base",
            "_view_module_version": "1.2.0",
            "_view_name": "LayoutView",
            "align_content": null,
            "align_items": null,
            "align_self": null,
            "border": null,
            "bottom": null,
            "display": null,
            "flex": null,
            "flex_flow": null,
            "grid_area": null,
            "grid_auto_columns": null,
            "grid_auto_flow": null,
            "grid_auto_rows": null,
            "grid_column": null,
            "grid_gap": null,
            "grid_row": null,
            "grid_template_areas": null,
            "grid_template_columns": null,
            "grid_template_rows": null,
            "height": null,
            "justify_content": null,
            "justify_items": null,
            "left": null,
            "margin": null,
            "max_height": null,
            "max_width": null,
            "min_height": null,
            "min_width": null,
            "object_fit": null,
            "object_position": null,
            "order": null,
            "overflow": null,
            "overflow_x": null,
            "overflow_y": null,
            "padding": null,
            "right": null,
            "top": null,
            "visibility": null,
            "width": null
          }
        },
        "eed58a18e5a541c39efbf2a2cc227edb": {
          "model_module": "@jupyter-widgets/controls",
          "model_name": "DescriptionStyleModel",
          "model_module_version": "1.5.0",
          "state": {
            "_model_module": "@jupyter-widgets/controls",
            "_model_module_version": "1.5.0",
            "_model_name": "DescriptionStyleModel",
            "_view_count": null,
            "_view_module": "@jupyter-widgets/base",
            "_view_module_version": "1.2.0",
            "_view_name": "StyleView",
            "description_width": ""
          }
        }
      }
    }
  },
  "cells": [
    {
      "cell_type": "markdown",
      "source": [
        "Step 1: Installing Required Libraries"
      ],
      "metadata": {
        "id": "jpsHC_VhGnME"
      }
    },
    {
      "cell_type": "code",
      "source": [
        "!pip install faiss-cpu requests pypdf2 sentence-transformers nltk numpy -q\n",
        "!pip install --upgrade nltk -q"
      ],
      "metadata": {
        "id": "Y15bmfvBGp2D"
      },
      "execution_count": 3,
      "outputs": []
    },
    {
      "cell_type": "markdown",
      "source": [
        "Step 2: Importing necessary libraries"
      ],
      "metadata": {
        "id": "AsLS-I4sGv85"
      }
    },
    {
      "cell_type": "code",
      "source": [
        "import os\n",
        "import numpy as np\n",
        "from PyPDF2 import PdfReader\n",
        "from google.colab import files\n",
        "from sentence_transformers import SentenceTransformer\n",
        "import faiss\n",
        "import nltk"
      ],
      "metadata": {
        "id": "rpXvVGzAGtQs"
      },
      "execution_count": 4,
      "outputs": []
    },
    {
      "cell_type": "markdown",
      "source": [
        "Step 3: Downloading and configuring NLTK resources"
      ],
      "metadata": {
        "id": "WKi1HeZkG6en"
      }
    },
    {
      "cell_type": "code",
      "source": [
        "nltk.download('punkt')\n",
        "nltk.download('punkt_tab')\n",
        "nltk.download('stopwords')\n",
        "nltk.data.path.append(\"/root/nltk_data\")"
      ],
      "metadata": {
        "colab": {
          "base_uri": "https://localhost:8080/"
        },
        "id": "Zn7r67nyG4Ve",
        "outputId": "51026249-35b8-44e7-c96d-8026bd77ee8c"
      },
      "execution_count": 5,
      "outputs": [
        {
          "output_type": "stream",
          "name": "stderr",
          "text": [
            "[nltk_data] Downloading package punkt to /root/nltk_data...\n",
            "[nltk_data]   Package punkt is already up-to-date!\n",
            "[nltk_data] Downloading package punkt_tab to /root/nltk_data...\n",
            "[nltk_data]   Package punkt_tab is already up-to-date!\n",
            "[nltk_data] Downloading package stopwords to /root/nltk_data...\n",
            "[nltk_data]   Package stopwords is already up-to-date!\n"
          ]
        }
      ]
    },
    {
      "cell_type": "markdown",
      "source": [
        "Step 4: Initialize embedding model"
      ],
      "metadata": {
        "id": "MtP-Lmf7HJUD"
      }
    },
    {
      "cell_type": "code",
      "source": [
        "EMBEDDING_MODEL = SentenceTransformer('sentence-transformers/all-MiniLM-L6-v2')"
      ],
      "metadata": {
        "id": "d45xEiszHJFb"
      },
      "execution_count": 6,
      "outputs": []
    },
    {
      "cell_type": "markdown",
      "source": [
        "Step 5: Defining PDF Processing Functions and Chunk Parameters"
      ],
      "metadata": {
        "id": "twKdEd58HPmg"
      }
    },
    {
      "cell_type": "code",
      "source": [
        "# =================  =================\n",
        "def load_pdf(pdf_path):\n",
        "    \"\"\"Load and extract text from PDF files with error handling\"\"\"\n",
        "    try:\n",
        "        reader = PdfReader(pdf_path)\n",
        "        text = \"\"\n",
        "        for page in reader.pages:\n",
        "            page_text = page.extract_text()\n",
        "            if page_text:\n",
        "                text += page_text + \"\\n\"\n",
        "        return text.strip()\n",
        "    except Exception as e:\n",
        "        print(f\"Error reading {os.path.basename(pdf_path)}: {str(e)}\")\n",
        "        return \"\"\n",
        "\n",
        "def process_pdfs(uploaded_files, chunk_size=1000, overlap=200):\n",
        "    \"\"\"Process uploaded PDFs into chunks with source tracking\"\"\"\n",
        "    documents = []\n",
        "    sources = []\n",
        "    file_details = []\n",
        "\n",
        "    for filename, content in uploaded_files.items():\n",
        "        text = load_pdf(filename)\n",
        "        if not text:\n",
        "            print(f\"Skipped {filename} - no text extracted\")\n",
        "            continue\n",
        "\n",
        "        # Create chunks with overlap\n",
        "        chunks = []\n",
        "        start = 0\n",
        "        while start < len(text):\n",
        "            end = start + chunk_size\n",
        "            chunk = text[start:end].strip()\n",
        "            if len(chunk) > 100:  # Skip small chunks\n",
        "                chunks.append(chunk)\n",
        "                sources.append(f\"{filename}:chunk{len(chunks)}\")\n",
        "            start = end - overlap\n",
        "\n",
        "        documents.extend(chunks)\n",
        "        file_details.append(f\"📄 {filename} ({len(chunks)} chunks)\")\n",
        "\n",
        "    print(\"\\n\".join(file_details))\n",
        "    return documents, sources"
      ],
      "metadata": {
        "id": "u28M2GmqHPSb"
      },
      "execution_count": 7,
      "outputs": []
    },
    {
      "cell_type": "markdown",
      "source": [
        "Step 6: Defining NLP functions to process queries"
      ],
      "metadata": {
        "id": "virSk3uzHr4i"
      }
    },
    {
      "cell_type": "code",
      "source": [
        "def format_response(query, context, max_sentences=5):\n",
        "    \"\"\"Convert raw context into natural language response\"\"\"\n",
        "    # Clean and structure text\n",
        "    clean_context = \" \".join(context.split())\n",
        "    sentences = sent_tokenize(clean_context)\n",
        "\n",
        "    # Find most relevant sentences\n",
        "    keywords = set(query.lower().split())\n",
        "    scored_sentences = []\n",
        "\n",
        "    for sent in sentences:\n",
        "        score = sum(1 for word in keywords if word in sent.lower())\n",
        "        if score > 0:\n",
        "            scored_sentences.append((score, sent))\n",
        "\n",
        "    # Sort by relevance and select top sentences\n",
        "    scored_sentences.sort(reverse=True, key=lambda x: x[0])\n",
        "    top_sentences = [s[1] for s in scored_sentences[:max_sentences]]\n",
        "\n",
        "    # Build natural response\n",
        "    response = f\"Based on the syllabus documents, here's what I found about '{query}':\\n\\n\"\n",
        "\n",
        "    if top_sentences:\n",
        "        response += \"• \" + \"\\n• \".join(top_sentences)\n",
        "    else:\n",
        "        response += \"While not explicitly mentioned, here's relevant information:\\n\"\n",
        "        response += clean_context[:1000] + (\"...\" if len(clean_context) > 1000 else \"\")\n",
        "\n",
        "    return response"
      ],
      "metadata": {
        "id": "tQt48albHcey"
      },
      "execution_count": 8,
      "outputs": []
    },
    {
      "cell_type": "markdown",
      "source": [
        "Step 7: Defininf FAISS Operations for similar information"
      ],
      "metadata": {
        "id": "9S78GEX5H65M"
      }
    },
    {
      "cell_type": "code",
      "source": [
        "def create_faiss_index(embeddings):\n",
        "    \"\"\"Create and populate FAISS index\"\"\"\n",
        "    dim = EMBEDDING_MODEL.get_sentence_embedding_dimension()\n",
        "    index = faiss.IndexFlatL2(dim)\n",
        "    index.add(np.array(embeddings).astype('float32'))\n",
        "    return index\n",
        "\n",
        "def retrieve_context(query, index, documents, sources, top_k=5):\n",
        "    \"\"\"Retrieve relevant context from documents\"\"\"\n",
        "    query_embedding = EMBEDDING_MODEL.encode([query])\n",
        "    distances, indices = index.search(query_embedding.astype('float32'), top_k)\n",
        "\n",
        "    results = []\n",
        "    for idx in indices[0]:\n",
        "        if idx < len(documents):\n",
        "            results.append({\n",
        "                \"content\": documents[idx],\n",
        "                \"source\": sources[idx]\n",
        "            })\n",
        "    return results"
      ],
      "metadata": {
        "id": "yTYe921hHhzZ"
      },
      "execution_count": 9,
      "outputs": []
    },
    {
      "cell_type": "markdown",
      "source": [
        "Step 8: Main Function & Querying"
      ],
      "metadata": {
        "id": "CBJEYU0bIDrl"
      }
    },
    {
      "cell_type": "code",
      "source": [
        "def main():\n",
        "    print(\"=\"*60)\n",
        "    print(\"📚 Syllabus Assistant: Ask questions about your course documents!\")\n",
        "    print(\"=\"*60)\n",
        "\n",
        "    # File upload\n",
        "    print(\"\\n👉 Please upload your syllabus PDF files:\")\n",
        "    uploaded = files.upload()\n",
        "    if not uploaded:\n",
        "        print(\"No files uploaded. Exiting.\")\n",
        "        return\n",
        "\n",
        "    # Process documents\n",
        "    documents, sources = process_pdfs(uploaded)\n",
        "    if not documents:\n",
        "        print(\"No valid documents processed. Exiting.\")\n",
        "        return\n",
        "\n",
        "    # Generate embeddings\n",
        "    print(\"\\n🔮 Generating document embeddings...\")\n",
        "    embeddings = EMBEDDING_MODEL.encode(documents, show_progress_bar=True)\n",
        "\n",
        "    # Create FAISS index\n",
        "    print(\"\\n📂 Creating search index...\")\n",
        "    index = create_faiss_index(embeddings)\n",
        "\n",
        "    # Q&A Interface\n",
        "    print(\"\\n\" + \"=\"*60)\n",
        "    print(\"💬 Ask questions about your curriculum (type 'exit' to quit)\")\n",
        "    print(\"=\"*60)\n",
        "\n",
        "    while True:\n",
        "        query = input(\"\\nQuestion: \").strip()\n",
        "        if query.lower() in ('exit', 'quit'):\n",
        "            break\n",
        "\n",
        "        # Retrieve relevant context\n",
        "        results = retrieve_context(query, index, documents, sources)\n",
        "        if not results:\n",
        "            print(\"No relevant information found.\")\n",
        "            continue\n",
        "\n",
        "        # Format natural response\n",
        "        combined_context = \"\\n\".join([f\"[From {res['source']}]\\n{res['content']}\" for res in results])\n",
        "        answer = format_response(query, combined_context)\n",
        "\n",
        "        # Display results\n",
        "        print(\"\\n\" + \"=\"*60)\n",
        "        print(answer)\n",
        "        print(\"\\n📚 Sources:\")\n",
        "        print(\"\\n\".join(set(res['source'] for res in results)))\n",
        "        print(\"=\"*60)\n",
        "\n",
        "    print(\"\\nThank you for using the Syllabus Assistant! 🎓\")\n",
        "\n",
        "# Run the application\n",
        "if __name__ == \"__main__\":\n",
        "    main()"
      ],
      "metadata": {
        "colab": {
          "base_uri": "https://localhost:8080/",
          "height": 1000,
          "referenced_widgets": [
            "4dc75a43307f4720b30d6a3c1560dfaa",
            "c81045d0dce74e098024567073faae76",
            "30c65725a2014ac9b00eccbec3d8a6c3",
            "bbe359f1425642ccb6073dfd677a0037",
            "f303fef506ae4cedb765b1ad35ada24f",
            "ec0df92050204a819a1405b19a0febf7",
            "ee3fde4e952a438ab25421d024553215",
            "c59825a7f50c47509700ac28a59d4a09",
            "e3a49a7324ec4e408accec1c549ed63b",
            "b47f50ee2685476b9c99ce5144badc08",
            "eed58a18e5a541c39efbf2a2cc227edb"
          ]
        },
        "id": "g6q1KqFkHxKb",
        "outputId": "aef3f09b-5f90-4ec3-f1d1-41e8cab27008"
      },
      "execution_count": null,
      "outputs": [
        {
          "output_type": "stream",
          "name": "stdout",
          "text": [
            "============================================================\n",
            "📚 Syllabus Assistant: Ask questions about your course documents!\n",
            "============================================================\n",
            "\n",
            "👉 Please upload your syllabus PDF files:\n"
          ]
        },
        {
          "output_type": "display_data",
          "data": {
            "text/plain": [
              "<IPython.core.display.HTML object>"
            ],
            "text/html": [
              "\n",
              "     <input type=\"file\" id=\"files-38c6be95-971b-44a8-9452-a8fbe2f0cffd\" name=\"files[]\" multiple disabled\n",
              "        style=\"border:none\" />\n",
              "     <output id=\"result-38c6be95-971b-44a8-9452-a8fbe2f0cffd\">\n",
              "      Upload widget is only available when the cell has been executed in the\n",
              "      current browser session. Please rerun this cell to enable.\n",
              "      </output>\n",
              "      <script>// Copyright 2017 Google LLC\n",
              "//\n",
              "// Licensed under the Apache License, Version 2.0 (the \"License\");\n",
              "// you may not use this file except in compliance with the License.\n",
              "// You may obtain a copy of the License at\n",
              "//\n",
              "//      http://www.apache.org/licenses/LICENSE-2.0\n",
              "//\n",
              "// Unless required by applicable law or agreed to in writing, software\n",
              "// distributed under the License is distributed on an \"AS IS\" BASIS,\n",
              "// WITHOUT WARRANTIES OR CONDITIONS OF ANY KIND, either express or implied.\n",
              "// See the License for the specific language governing permissions and\n",
              "// limitations under the License.\n",
              "\n",
              "/**\n",
              " * @fileoverview Helpers for google.colab Python module.\n",
              " */\n",
              "(function(scope) {\n",
              "function span(text, styleAttributes = {}) {\n",
              "  const element = document.createElement('span');\n",
              "  element.textContent = text;\n",
              "  for (const key of Object.keys(styleAttributes)) {\n",
              "    element.style[key] = styleAttributes[key];\n",
              "  }\n",
              "  return element;\n",
              "}\n",
              "\n",
              "// Max number of bytes which will be uploaded at a time.\n",
              "const MAX_PAYLOAD_SIZE = 100 * 1024;\n",
              "\n",
              "function _uploadFiles(inputId, outputId) {\n",
              "  const steps = uploadFilesStep(inputId, outputId);\n",
              "  const outputElement = document.getElementById(outputId);\n",
              "  // Cache steps on the outputElement to make it available for the next call\n",
              "  // to uploadFilesContinue from Python.\n",
              "  outputElement.steps = steps;\n",
              "\n",
              "  return _uploadFilesContinue(outputId);\n",
              "}\n",
              "\n",
              "// This is roughly an async generator (not supported in the browser yet),\n",
              "// where there are multiple asynchronous steps and the Python side is going\n",
              "// to poll for completion of each step.\n",
              "// This uses a Promise to block the python side on completion of each step,\n",
              "// then passes the result of the previous step as the input to the next step.\n",
              "function _uploadFilesContinue(outputId) {\n",
              "  const outputElement = document.getElementById(outputId);\n",
              "  const steps = outputElement.steps;\n",
              "\n",
              "  const next = steps.next(outputElement.lastPromiseValue);\n",
              "  return Promise.resolve(next.value.promise).then((value) => {\n",
              "    // Cache the last promise value to make it available to the next\n",
              "    // step of the generator.\n",
              "    outputElement.lastPromiseValue = value;\n",
              "    return next.value.response;\n",
              "  });\n",
              "}\n",
              "\n",
              "/**\n",
              " * Generator function which is called between each async step of the upload\n",
              " * process.\n",
              " * @param {string} inputId Element ID of the input file picker element.\n",
              " * @param {string} outputId Element ID of the output display.\n",
              " * @return {!Iterable<!Object>} Iterable of next steps.\n",
              " */\n",
              "function* uploadFilesStep(inputId, outputId) {\n",
              "  const inputElement = document.getElementById(inputId);\n",
              "  inputElement.disabled = false;\n",
              "\n",
              "  const outputElement = document.getElementById(outputId);\n",
              "  outputElement.innerHTML = '';\n",
              "\n",
              "  const pickedPromise = new Promise((resolve) => {\n",
              "    inputElement.addEventListener('change', (e) => {\n",
              "      resolve(e.target.files);\n",
              "    });\n",
              "  });\n",
              "\n",
              "  const cancel = document.createElement('button');\n",
              "  inputElement.parentElement.appendChild(cancel);\n",
              "  cancel.textContent = 'Cancel upload';\n",
              "  const cancelPromise = new Promise((resolve) => {\n",
              "    cancel.onclick = () => {\n",
              "      resolve(null);\n",
              "    };\n",
              "  });\n",
              "\n",
              "  // Wait for the user to pick the files.\n",
              "  const files = yield {\n",
              "    promise: Promise.race([pickedPromise, cancelPromise]),\n",
              "    response: {\n",
              "      action: 'starting',\n",
              "    }\n",
              "  };\n",
              "\n",
              "  cancel.remove();\n",
              "\n",
              "  // Disable the input element since further picks are not allowed.\n",
              "  inputElement.disabled = true;\n",
              "\n",
              "  if (!files) {\n",
              "    return {\n",
              "      response: {\n",
              "        action: 'complete',\n",
              "      }\n",
              "    };\n",
              "  }\n",
              "\n",
              "  for (const file of files) {\n",
              "    const li = document.createElement('li');\n",
              "    li.append(span(file.name, {fontWeight: 'bold'}));\n",
              "    li.append(span(\n",
              "        `(${file.type || 'n/a'}) - ${file.size} bytes, ` +\n",
              "        `last modified: ${\n",
              "            file.lastModifiedDate ? file.lastModifiedDate.toLocaleDateString() :\n",
              "                                    'n/a'} - `));\n",
              "    const percent = span('0% done');\n",
              "    li.appendChild(percent);\n",
              "\n",
              "    outputElement.appendChild(li);\n",
              "\n",
              "    const fileDataPromise = new Promise((resolve) => {\n",
              "      const reader = new FileReader();\n",
              "      reader.onload = (e) => {\n",
              "        resolve(e.target.result);\n",
              "      };\n",
              "      reader.readAsArrayBuffer(file);\n",
              "    });\n",
              "    // Wait for the data to be ready.\n",
              "    let fileData = yield {\n",
              "      promise: fileDataPromise,\n",
              "      response: {\n",
              "        action: 'continue',\n",
              "      }\n",
              "    };\n",
              "\n",
              "    // Use a chunked sending to avoid message size limits. See b/62115660.\n",
              "    let position = 0;\n",
              "    do {\n",
              "      const length = Math.min(fileData.byteLength - position, MAX_PAYLOAD_SIZE);\n",
              "      const chunk = new Uint8Array(fileData, position, length);\n",
              "      position += length;\n",
              "\n",
              "      const base64 = btoa(String.fromCharCode.apply(null, chunk));\n",
              "      yield {\n",
              "        response: {\n",
              "          action: 'append',\n",
              "          file: file.name,\n",
              "          data: base64,\n",
              "        },\n",
              "      };\n",
              "\n",
              "      let percentDone = fileData.byteLength === 0 ?\n",
              "          100 :\n",
              "          Math.round((position / fileData.byteLength) * 100);\n",
              "      percent.textContent = `${percentDone}% done`;\n",
              "\n",
              "    } while (position < fileData.byteLength);\n",
              "  }\n",
              "\n",
              "  // All done.\n",
              "  yield {\n",
              "    response: {\n",
              "      action: 'complete',\n",
              "    }\n",
              "  };\n",
              "}\n",
              "\n",
              "scope.google = scope.google || {};\n",
              "scope.google.colab = scope.google.colab || {};\n",
              "scope.google.colab._files = {\n",
              "  _uploadFiles,\n",
              "  _uploadFilesContinue,\n",
              "};\n",
              "})(self);\n",
              "</script> "
            ]
          },
          "metadata": {}
        },
        {
          "output_type": "stream",
          "name": "stdout",
          "text": [
            "Saving CHY1005_INTRODUCTION-TO-COMPUTATIONAL-CHEMISTRY_LTP_1.0_1_CHY1005-Introduction to Computational Chemistry-LTP.pdf to CHY1005_INTRODUCTION-TO-COMPUTATIONAL-CHEMISTRY_LTP_1.0_1_CHY1005-Introduction to Computational Chemistry-LTP (2).pdf\n",
            "Saving HUM1004_IT-AND-SOCIETY_LT_1.0_1_Information Technology and Society.pdf to HUM1004_IT-AND-SOCIETY_LT_1.0_1_Information Technology and Society (2).pdf\n",
            "Saving HUM1012_LOGIC-AND-LANGUAGE-STRUCTURE_LT_1.0_1_HUM1012_Logic and Language Structure-LT.pdf to HUM1012_LOGIC-AND-LANGUAGE-STRUCTURE_LT_1.0_1_HUM1012_Logic and Language Structure-LT (2).pdf\n",
            "📄 CHY1005_INTRODUCTION-TO-COMPUTATIONAL-CHEMISTRY_LTP_1.0_1_CHY1005-Introduction to Computational Chemistry-LTP (2).pdf (5 chunks)\n",
            "📄 HUM1004_IT-AND-SOCIETY_LT_1.0_1_Information Technology and Society (2).pdf (4 chunks)\n",
            "📄 HUM1012_LOGIC-AND-LANGUAGE-STRUCTURE_LT_1.0_1_HUM1012_Logic and Language Structure-LT (2).pdf (5 chunks)\n",
            "\n",
            "🔮 Generating document embeddings...\n"
          ]
        },
        {
          "output_type": "display_data",
          "data": {
            "text/plain": [
              "Batches:   0%|          | 0/1 [00:00<?, ?it/s]"
            ],
            "application/vnd.jupyter.widget-view+json": {
              "version_major": 2,
              "version_minor": 0,
              "model_id": "4dc75a43307f4720b30d6a3c1560dfaa"
            }
          },
          "metadata": {}
        },
        {
          "output_type": "stream",
          "name": "stdout",
          "text": [
            "\n",
            "📂 Creating search index...\n",
            "\n",
            "============================================================\n",
            "💬 Ask questions about your syllabi (type 'exit' to quit)\n",
            "============================================================\n",
            "\n",
            "Question: Course name of HUM1012\n",
            "\n",
            "============================================================\n",
            "Based on the syllabus documents, here's what I found about 'Course name of HUM1012':\n",
            "\n",
            "• [From HUM1012_LOGIC-AND-LANGUAGE-STRUCTURE_LT_1.0_1_HUM1012_Logic and Language Structure-LT (2).pdf:chunk1] Course Code HUM 1012 Logic and Language Structure Course Type LT Credits 3 Course Objectives:  Equip the students with symbolic language , which would further help them in coding sentential information.\n",
            "•  Understanding and knowledge acquired form the course will enable students to take up further courses based on natural language processing in term of machine.\n",
            "• Module Description Hours SO 1 Introduction to N atural Language Processing : Human language, models, ambiguity, processing paradigms, p [From HUM1004_IT-AND-SOCIETY_LT_1.0_1_Information Technology and Society (2).pdf:chunk1] Course Code: HUM1004 Information Technology and Society LT 3 Objectives To make the students to get an overall picture of the interface between information technology, revolution and society To enable the students to understand the role of technology in shaping the self, social structures and institutions, social life and relationship.\n",
            "• SLO 1 Technology and Society : Concept of technology –technological determinism – Information society – Scie [From HUM1012_LOGIC-AND-LANGUAGE-STRUCTURE_LT_1.0_1_HUM1012_Logic and Language Structure-LT (2).pdf:chunk3] ry , Ordered pairs and Relations , Function : membership, subset, superset , intersection, union , binary relation, ternary relation, quaternary relation, domain, co -domain, symmetry, transitivity, reflexive, characteristic function, function and relation differentiation in Natural Language .\n",
            "• Funct [From CHY1005_INTRODUCTION-TO-COMPUTATIONAL-CHEMISTRY_LTP_1.0_1_CHY1005-Introduction to Computational Chemistry-LTP (2).pdf:chunk1] 2 Course code : CHY1005 Introduction to Computational Chemistry Course Type LTP Credits 4 Pre-requisite Chemistry of 12th standard or equivalent Course Objectives: • To know the fundamental principles of Computational Chemistry required to solve engineering problems.\n",
            "\n",
            "📚 Sources:\n",
            "HUM1012_LOGIC-AND-LANGUAGE-STRUCTURE_LT_1.0_1_HUM1012_Logic and Language Structure-LT (2).pdf:chunk2\n",
            "HUM1012_LOGIC-AND-LANGUAGE-STRUCTURE_LT_1.0_1_HUM1012_Logic and Language Structure-LT (2).pdf:chunk3\n",
            "HUM1012_LOGIC-AND-LANGUAGE-STRUCTURE_LT_1.0_1_HUM1012_Logic and Language Structure-LT (2).pdf:chunk1\n",
            "HUM1004_IT-AND-SOCIETY_LT_1.0_1_Information Technology and Society (2).pdf:chunk1\n",
            "CHY1005_INTRODUCTION-TO-COMPUTATIONAL-CHEMISTRY_LTP_1.0_1_CHY1005-Introduction to Computational Chemistry-LTP (2).pdf:chunk1\n",
            "============================================================\n",
            "\n",
            "Question: chy1005\n",
            "\n",
            "============================================================\n",
            "Based on the syllabus documents, here's what I found about 'chy1005':\n",
            "\n",
            "• [From CHY1005_INTRODUCTION-TO-COMPUTATIONAL-CHEMISTRY_LTP_1.0_1_CHY1005-Introduction to Computational Chemistry-LTP (2).pdf:chunk1] 2 Course code : CHY1005 Introduction to Computational Chemistry Course Type LTP Credits 4 Pre-requisite Chemistry of 12th standard or equivalent Course Objectives: • To know the fundamental principles of Computational Chemistry required to solve engineering problems.\n",
            "• CO [From CHY1005_INTRODUCTION-TO-COMPUTATIONAL-CHEMISTRY_LTP_1.0_1_CHY1005-Introduction to Computational Chemistry-LTP (2).pdf:chunk2] l chemistry concepts to understand chemistry behind every day and industrial processes.\n",
            "• CO 1 Introduction Overview of the course, history and promises of computational chemistry, tools for computational chemistry , units, errors in computed quantities 2 1 2 Quantum Chemistry Historical development, Bohr ’s atomic model, de Broglie wavelength , Heisenberg uncertainty principle, Schrodinger equation, Wave function , particle in a box , Hydrogen atom, radial and angular solution to hydrogen atom, applications and limitations 9 1, 2 3 Thermodynamics Intensive and extensive variables, state and path functions, Laws of Thermodynamic s (First law and enthalpy; second law and entropy, spontaneity, and equilibrium; third law and absolute entropy) free energy, Gibbs and Maxwell's relations , Ideal and real gases 8 2 4 Potential Energy Surfaces Chemical [From CHY1005_INTRODUCTION-TO-COMPUTATIONAL-CHEMISTRY_LTP_1.0_1_CHY1005-Introduction to Computational Chemistry-LTP (2).pdf:chunk3] cond law and entropy, spontaneity, and equilibrium; third law and absolute entropy) free energy, Gibbs and Maxwell's relations , Ideal and real gases 8 2 4 Potential Energy Surfaces Chemical bonds and intermolecular interactions, Types of intermolecular interactions (charge distribution of isolated molecules, electrostatic interaction, induction interaction, London or dispersion forces, hydrogen bonding, repulsive interaction, relative contribution of different terms), representing the potential energy surfaces (pair additivity, rare gas) , 9 1, 2, 3 2 intramolecular interactions (bond stretching, angle bending, torsional and improper terms) 5 Molecular Dynamics Introduction to ensembles, force fields, integration of Newton’s laws of motion, force calculation, energy minimization, periodic boundary conditions, choice of input configuration, velocities, and time -step, applications , and calculation of simple thermodynamic variables.\n",
            "\n",
            "📚 Sources:\n",
            "HUM1012_LOGIC-AND-LANGUAGE-STRUCTURE_LT_1.0_1_HUM1012_Logic and Language Structure-LT (2).pdf:chunk2\n",
            "CHY1005_INTRODUCTION-TO-COMPUTATIONAL-CHEMISTRY_LTP_1.0_1_CHY1005-Introduction to Computational Chemistry-LTP (2).pdf:chunk2\n",
            "HUM1012_LOGIC-AND-LANGUAGE-STRUCTURE_LT_1.0_1_HUM1012_Logic and Language Structure-LT (2).pdf:chunk3\n",
            "CHY1005_INTRODUCTION-TO-COMPUTATIONAL-CHEMISTRY_LTP_1.0_1_CHY1005-Introduction to Computational Chemistry-LTP (2).pdf:chunk3\n",
            "CHY1005_INTRODUCTION-TO-COMPUTATIONAL-CHEMISTRY_LTP_1.0_1_CHY1005-Introduction to Computational Chemistry-LTP (2).pdf:chunk1\n",
            "============================================================\n"
          ]
        }
      ]
    }
  ]
}